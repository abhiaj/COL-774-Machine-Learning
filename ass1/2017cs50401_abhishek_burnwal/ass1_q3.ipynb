{
 "cells": [
  {
   "cell_type": "code",
   "execution_count": 1,
   "metadata": {},
   "outputs": [],
   "source": [
    "# %matplotlib notebook\n",
    "# %matplotlib tk\n",
    "import numpy as np \n",
    "import matplotlib.pyplot as plt \n",
    "import plotly\n",
    "import plotly.graph_objects as go\n",
    "import time\n",
    "import math\n",
    "from mpl_toolkits import mplot3d"
   ]
  },
  {
   "cell_type": "code",
   "execution_count": 2,
   "metadata": {},
   "outputs": [],
   "source": [
    "x1=[]\n",
    "x2=[]\n",
    "y=[]\n",
    "label0=[]\n",
    "label1=[]\n",
    "f = open(\"../ass1_data/data/q3/logisticX.csv\", \"r\")\n",
    "\n",
    "for i in f:\n",
    "    #print(x.strip())\n",
    "    ''' a is matrix of m*2 size, where the first column is 1 '''\n",
    "    i=i.strip()\n",
    "    temp=i.split(\",\")\n",
    "    x1.append(temp[0])\n",
    "    x2.append(temp[1])\n",
    "\n",
    "f.close()\n",
    "\n",
    "f = open(\"../ass1_data/data/q3/logisticY.csv\",\"r\")\n",
    "\n",
    "for i in f:\n",
    "    #print(i.strip())\n",
    "    #y is vector of single dimension\n",
    "    y.append(i.strip())\n",
    "f.close()\n",
    "\n",
    "for i in range(len(y)):\n",
    "    if(y[i]==\"0\"):\n",
    "        label0.append(i)\n",
    "    elif(y[i]==\"1\"):\n",
    "        label1.append(i)"
   ]
  },
  {
   "cell_type": "code",
   "execution_count": 3,
   "metadata": {},
   "outputs": [
    {
     "name": "stdout",
     "output_type": "stream",
     "text": [
      "<class 'str'>\n"
     ]
    }
   ],
   "source": [
    "print(type(x2[0]))"
   ]
  },
  {
   "cell_type": "code",
   "execution_count": 4,
   "metadata": {},
   "outputs": [],
   "source": [
    "x0 = np.full(100,1)"
   ]
  },
  {
   "cell_type": "code",
   "execution_count": 5,
   "metadata": {},
   "outputs": [],
   "source": [
    "x1=np.array(x1).astype(float)\n",
    "x1m=np.mean(x1)\n",
    "x1d=np.std(x1)\n",
    "x1=(x1-x1m)/x1d\n",
    "x2=np.array(x2).astype(float)\n",
    "x2m=np.mean(x2)\n",
    "x2d=np.std(x2)\n",
    "x2=(x2-x2m)/x2d\n",
    "y=np.array(y).astype(float)\n"
   ]
  },
  {
   "cell_type": "code",
   "execution_count": 6,
   "metadata": {},
   "outputs": [],
   "source": [
    "X=np.column_stack((x0,x1,x2)).T\n",
    "Y=y.reshape(100,1).T"
   ]
  },
  {
   "cell_type": "code",
   "execution_count": 7,
   "metadata": {},
   "outputs": [
    {
     "name": "stdout",
     "output_type": "stream",
     "text": [
      "(3, 100)\n",
      "(1, 100)\n"
     ]
    }
   ],
   "source": [
    "print(X.shape)\n",
    "print(Y.shape)"
   ]
  },
  {
   "cell_type": "code",
   "execution_count": 8,
   "metadata": {},
   "outputs": [],
   "source": [
    "theta=[0,0,0]\n",
    "theta=np.array(theta).astype(float).reshape(3,1)"
   ]
  },
  {
   "cell_type": "code",
   "execution_count": 9,
   "metadata": {},
   "outputs": [
    {
     "name": "stdout",
     "output_type": "stream",
     "text": [
      "(3, 1)\n",
      "[[0. 0. 0.]]\n"
     ]
    }
   ],
   "source": [
    "print(theta.shape)\n",
    "print(theta.T)"
   ]
  },
  {
   "cell_type": "code",
   "execution_count": 10,
   "metadata": {},
   "outputs": [],
   "source": [
    "# DelL=np.dot( Y-1/(1+np.exp(-1*np.dot(theta.T,X))) , X.T )"
   ]
  },
  {
   "cell_type": "code",
   "execution_count": 11,
   "metadata": {},
   "outputs": [],
   "source": [
    "# print(DelL)\n",
    "# print(DelL.shape)"
   ]
  },
  {
   "cell_type": "code",
   "execution_count": 12,
   "metadata": {},
   "outputs": [],
   "source": [
    "# H=np.zeros([3,3])\n",
    "# for i in range(100):\n",
    "#     g = np.exp(-1*np.dot(theta.T,X[:,i:i+1]))[0,0]\n",
    "#     temp=np.dot(X[:,i:i+1],X[:,i:i+1].T)*g\n",
    "#     H+=temp\n",
    "# # print(H)\n",
    "# Hinv = np.linalg.inv(H) \n",
    "# print (H)\n",
    "# print (Hinv)\n",
    "# print (np.dot(H,Hinv))"
   ]
  },
  {
   "cell_type": "code",
   "execution_count": 13,
   "metadata": {
    "scrolled": false
   },
   "outputs": [
    {
     "name": "stdout",
     "output_type": "stream",
     "text": [
      "1 [[ 2.76358234e-16]\n",
      " [ 8.97341408e-01]\n",
      " [-9.20112283e-01]] [[0.]\n",
      " [0.]\n",
      " [0.]]\n",
      "2 [[ 0.0916248 ]\n",
      " [ 1.54658764]\n",
      " [-1.57249997]] [[ 2.76358234e-16]\n",
      " [ 8.97341408e-01]\n",
      " [-9.20112283e-01]]\n",
      "3 [[ 0.22925374]\n",
      " [ 2.10393545]\n",
      " [-2.18620038]] [[ 0.0916248 ]\n",
      " [ 1.54658764]\n",
      " [-1.57249997]]\n",
      "4 [[ 0.35177461]\n",
      " [ 2.46348281]\n",
      " [-2.59033635]] [[ 0.22925374]\n",
      " [ 2.10393545]\n",
      " [-2.18620038]]\n",
      "5 [[ 0.39743593]\n",
      " [ 2.57939935]\n",
      " [-2.71602845]] [[ 0.35177461]\n",
      " [ 2.46348281]\n",
      " [-2.59033635]]\n",
      "6 [[ 0.40123187]\n",
      " [ 2.58849794]\n",
      " [-2.7255376 ]] [[ 0.39743593]\n",
      " [ 2.57939935]\n",
      " [-2.71602845]]\n",
      "7 [[ 0.40125316]\n",
      " [ 2.5885477 ]\n",
      " [-2.72558849]] [[ 0.40123187]\n",
      " [ 2.58849794]\n",
      " [-2.7255376 ]]\n",
      "8 [[ 0.40125316]\n",
      " [ 2.5885477 ]\n",
      " [-2.72558849]] [[ 0.40125316]\n",
      " [ 2.5885477 ]\n",
      " [-2.72558849]]\n"
     ]
    }
   ],
   "source": [
    "theta=[0,0,0]\n",
    "theta=np.array(theta).astype(float).reshape(3,1)\n",
    "theta_old=theta\n",
    "error=1\n",
    "j=0\n",
    "# for j in range(100):\n",
    "while(error>0.00000003):\n",
    "    tempH=np.zeros([3,3])\n",
    "    for i in range(100):\n",
    "        thetaTX = np.dot(theta.T,X[:,i:i+1])\n",
    "        g = math.exp(-1*thetaTX[0,0])\n",
    "#         print(i,thetaTX,g)\n",
    "        k = -1*g/(1+g)**2\n",
    "        temp=np.dot(X[:,i:i+1],X[:,i:i+1].T)*k\n",
    "        tempH+=temp\n",
    "        \n",
    "#     print(tempH,\"\\n\")\n",
    "    tempHinv = np.linalg.inv(tempH) \n",
    "    \n",
    "    tempDelL=np.dot( Y-1/(1+np.exp(-1*np.dot(theta.T,X))) , X.T )\n",
    "#     print(tempDelL)\n",
    "    tempT = theta - np.dot(tempHinv,tempDelL.T)\n",
    "#     print(tempT)\n",
    "    theta_old=theta\n",
    "    theta = tempT\n",
    "    \n",
    "    error=np.max(np.abs(theta - theta_old))\n",
    "    j+=1\n",
    "    print(j,theta,theta_old)"
   ]
  },
  {
   "cell_type": "code",
   "execution_count": 14,
   "metadata": {},
   "outputs": [
    {
     "data": {
      "image/png": "[encoded data removed]",
      "text/plain": [
       "<Figure size 432x288 with 1 Axes>"
      ]
     },
     "metadata": {
      "needs_background": "light"
     },
     "output_type": "display_data"
    }
   ],
   "source": [
    "x_label0 = np.array([X[1:3,x] for x in label0])\n",
    "x_label1 = np.array([X[1:3,x] for x in label1])\n",
    "plt.plot(x_label0[:, 0], x_label0[:, 1], 'ro', marker='o', label = 'Class 0')\n",
    "plt.plot(x_label1[:, 0], x_label1[:, 1], 'bo', marker='^', label = 'Class 1')\n",
    "x_line = np.linspace(-3,3,100)\n",
    "y_line = (-theta[1,0]*x_line-theta[0,0])/theta[2,0]\n",
    "plt.plot(x_line,y_line,\"green\", label=\"decision boundary\")\n",
    "plt.legend()\n",
    "plt.xlabel(\"x1--->\")\n",
    "plt.ylabel(\"x2--->\")\n",
    "plt.title(\"x2 vs x1\")\n",
    "plt.show()\n"
   ]
  },
  {
   "cell_type": "code",
   "execution_count": null,
   "metadata": {},
   "outputs": [],
   "source": []
  }
 ],
 "metadata": {
  "kernelspec": {
   "display_name": "Python 3",
   "language": "python",
   "name": "python3"
  },
  "language_info": {
   "codemirror_mode": {
    "name": "ipython",
    "version": 3
   },
   "file_extension": ".py",
   "mimetype": "text/x-python",
   "name": "python",
   "nbconvert_exporter": "python",
   "pygments_lexer": "ipython3",
   "version": "3.7.4"
  }
 },
 "nbformat": 4,
 "nbformat_minor": 2
}
