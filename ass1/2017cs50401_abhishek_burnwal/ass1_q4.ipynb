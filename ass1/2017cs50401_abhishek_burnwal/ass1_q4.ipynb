{
 "cells": [
  {
   "cell_type": "code",
   "execution_count": null,
   "metadata": {},
   "outputs": [],
   "source": []
  },
  {
   "cell_type": "code",
   "execution_count": 1,
   "metadata": {},
   "outputs": [],
   "source": [
    "import numpy as np \n",
    "import matplotlib.pyplot as plt \n",
    "import plotly\n",
    "import plotly.graph_objects as go\n",
    "import time\n",
    "import math\n",
    "from mpl_toolkits import mplot3d"
   ]
  },
  {
   "cell_type": "code",
   "execution_count": 2,
   "metadata": {},
   "outputs": [],
   "source": [
    "x1=[]\n",
    "x2=[]\n",
    "y=[]\n",
    "label0=[]\n",
    "label1=[]\n",
    "m=0\n",
    "\n",
    "labels={\"Alaska\":0,\"Canada\":1}\n",
    "f = open(\"../ass1_data/data/q4/q4x.dat\", \"r\")\n",
    "\n",
    "for i in f:\n",
    "    #print(x.strip())\n",
    "    ''' a is matrix of m*2 size, where the first column is 1 '''\n",
    "    i=i.strip()\n",
    "    temp=i.split(\"  \")\n",
    "    x1.append(temp[0])\n",
    "    x2.append(temp[1])\n",
    "\n",
    "f.close()\n",
    "\n",
    "f = open(\"../ass1_data/data/q4/q4y.dat\",\"r\")\n",
    "\n",
    "for i in f:\n",
    "    #print(i.strip())\n",
    "    #y is vector of single dimension\n",
    "    str1 = i.strip()\n",
    "    y.append(labels[str1])\n",
    "f.close()\n",
    "\n",
    "m = len(y)\n",
    "\n",
    "for i in range(len(y)):\n",
    "    if(y[i]==0):\n",
    "        label0.append(i)\n",
    "    elif(y[i]==1):\n",
    "        label1.append(i)\n",
    "\n",
    "# print(x1,x2,y)"
   ]
  },
  {
   "cell_type": "code",
   "execution_count": null,
   "metadata": {},
   "outputs": [],
   "source": []
  },
  {
   "cell_type": "code",
   "execution_count": 3,
   "metadata": {},
   "outputs": [],
   "source": [
    "x1=np.array(x1).astype(float)\n",
    "x1m=np.mean(x1)\n",
    "x1d=np.std(x1)\n",
    "x1=(x1-x1m)/x1d\n",
    "\n",
    "x2=np.array(x2).astype(float)\n",
    "x2m=np.mean(x2)\n",
    "x2d=np.std(x2)\n",
    "x2=(x2-x2m)/x2d\n",
    "\n",
    "y=np.array(y).astype(float)"
   ]
  },
  {
   "cell_type": "code",
   "execution_count": 4,
   "metadata": {},
   "outputs": [],
   "source": [
    "X=np.column_stack((x1,x2)).T\n",
    "Y=y.reshape(100,1).T"
   ]
  },
  {
   "cell_type": "code",
   "execution_count": 5,
   "metadata": {},
   "outputs": [],
   "source": [
    "# print(X)\n",
    "# print(Y.shape)"
   ]
  },
  {
   "cell_type": "code",
   "execution_count": 6,
   "metadata": {},
   "outputs": [],
   "source": [
    "phi = len(label1)/m\n",
    "# print(phi)"
   ]
  },
  {
   "cell_type": "code",
   "execution_count": 7,
   "metadata": {},
   "outputs": [],
   "source": [
    "mu0 = 0\n",
    "for i in range(len(label0)):\n",
    "    index = label0[i]\n",
    "    mu0 += X[:,index]\n",
    "mu0 = mu0/len(label0)\n",
    "mu0 = mu0.reshape(2,1)"
   ]
  },
  {
   "cell_type": "code",
   "execution_count": 8,
   "metadata": {},
   "outputs": [
    {
     "name": "stdout",
     "output_type": "stream",
     "text": [
      "mu0: [[-0.75529433]\n",
      " [ 0.68509431]]\n"
     ]
    }
   ],
   "source": [
    "print(\"mu0:\",mu0)"
   ]
  },
  {
   "cell_type": "code",
   "execution_count": 9,
   "metadata": {},
   "outputs": [],
   "source": [
    "mu1 = 0\n",
    "for i in range(len(label1)):\n",
    "    index = label1[i]\n",
    "    mu1 += X[:,index]\n",
    "mu1 = mu1/len(label1)\n",
    "mu1 = mu1.reshape(2,1)"
   ]
  },
  {
   "cell_type": "code",
   "execution_count": 10,
   "metadata": {},
   "outputs": [
    {
     "name": "stdout",
     "output_type": "stream",
     "text": [
      "mu1: [[ 0.75529433]\n",
      " [-0.68509431]]\n"
     ]
    }
   ],
   "source": [
    "print(\"mu1:\",mu1)"
   ]
  },
  {
   "cell_type": "code",
   "execution_count": 11,
   "metadata": {},
   "outputs": [],
   "source": [
    "sigma = 0\n",
    "for i in range(m):\n",
    "    temp = 0\n",
    "    if(Y[0,i]==0):\n",
    "        temp = X[:,i:i+1] - mu0\n",
    "    elif(Y[0,i]==1):\n",
    "        temp = X[:,i:i+1] - mu1\n",
    "#     print(temp.shape,X[:,i:i+1].shape,mu0.shape)\n",
    "    sigma += np.dot(temp,temp.T)\n",
    "#     print(temp.T.shape)\n",
    "sigma /= m"
   ]
  },
  {
   "cell_type": "code",
   "execution_count": 12,
   "metadata": {},
   "outputs": [
    {
     "name": "stdout",
     "output_type": "stream",
     "text": [
      "sigma: [[ 0.42953048 -0.02247228]\n",
      " [-0.02247228  0.53064579]]\n"
     ]
    }
   ],
   "source": [
    "print(\"sigma:\",sigma)"
   ]
  },
  {
   "cell_type": "code",
   "execution_count": 13,
   "metadata": {},
   "outputs": [
    {
     "data": {
      "text/plain": [
       "<matplotlib.legend.Legend at 0x7fa3d59a3850>"
      ]
     },
     "execution_count": 13,
     "metadata": {},
     "output_type": "execute_result"
    },
    {
     "data": {
      "image/png": "[encoded data removed]",
      "text/plain": [
       "<Figure size 432x288 with 1 Axes>"
      ]
     },
     "metadata": {
      "needs_background": "light"
     },
     "output_type": "display_data"
    }
   ],
   "source": [
    "x_label0 = np.array([X[0:2,x] for x in label0])\n",
    "x_label1 = np.array([X[0:2,x] for x in label1])\n",
    "\n",
    "plt.plot(x_label0[:, 0], x_label0[:, 1], 'ro', marker='o', label='Alaska')\n",
    "plt.plot(x_label1[:, 0], x_label1[:, 1], 'bo', marker='^', label='Canada')\n",
    "plt.xlabel('diameter in fresh water')\n",
    "plt.ylabel('diameter in marine water')\n",
    "plt.title('Training Set')\n",
    "plt.legend()"
   ]
  },
  {
   "cell_type": "code",
   "execution_count": 14,
   "metadata": {},
   "outputs": [
    {
     "name": "stdout",
     "output_type": "stream",
     "text": [
      "(2, 1)\n",
      "(1, 1000)\n"
     ]
    },
    {
     "data": {
      "image/png": "[encoded data removed]",
      "text/plain": [
       "<Figure size 432x288 with 1 Axes>"
      ]
     },
     "metadata": {
      "needs_background": "light"
     },
     "output_type": "display_data"
    },
    {
     "name": "stdout",
     "output_type": "stream",
     "text": [
      "[[1.11022302e-15]] -3.3892545212594527 2.438583994362328\n"
     ]
    }
   ],
   "source": [
    "x_label0 = np.array([X[0:2,x] for x in label0])\n",
    "x_label1 = np.array([X[0:2,x] for x in label1])\n",
    "\n",
    "plt.plot(x_label0[:, 0], x_label0[:, 1], 'ro', marker='o', label='Alaska')\n",
    "plt.plot(x_label1[:, 0], x_label1[:, 1], 'bo', marker='^', label='Canada')\n",
    "plt.xlabel('diameter in fresh water')\n",
    "plt.ylabel('diameter in marine water')\n",
    "plt.title('Training Set')\n",
    "plt.legend()\n",
    "# plt.show(block=False)\n",
    "\n",
    "sigma_inv = np.linalg.inv(sigma) \n",
    "c = 0.5 * (((mu0.T).dot(sigma_inv)).dot(mu0) -\n",
    "               ((mu1.T).dot(sigma_inv)).dot(mu1))\n",
    "siginv_mu = np.dot(sigma_inv, mu0-mu1)\n",
    "print(siginv_mu.shape)\n",
    "x_line = np.linspace(-3,3,1000)\n",
    "y_line = (c - siginv_mu[0,0]*x_line)/siginv_mu[1,0]\n",
    "print(y_line.shape)\n",
    "y_line = y_line.T\n",
    "plt.plot(x_line,y_line,label=\"linear decision boundary\")\n",
    "plt.show()\n",
    "print(c, siginv_mu[0,0],siginv_mu[1,0])"
   ]
  },
  {
   "cell_type": "code",
   "execution_count": 15,
   "metadata": {},
   "outputs": [
    {
     "name": "stdout",
     "output_type": "stream",
     "text": [
      "sigma0: [[ 0.38158978 -0.15486516]\n",
      " [-0.15486516  0.64773717]]\n"
     ]
    }
   ],
   "source": [
    "sigma0 = 0\n",
    "for i in range(len(label0)):\n",
    "    temp = 0\n",
    "    index = label0[i]\n",
    "    temp = X[:,index:index+1] - mu0\n",
    "#     elif(Y[0,i]==1):\n",
    "#         temp = X[:,i:i+1] - mu1\n",
    "#     print(temp.shape,X[:,i:i+1].shape,mu0.shape)\n",
    "    sigma0 += np.dot(temp,temp.T)\n",
    "#     print(temp.T.shape)\n",
    "sigma0 /= len(label0)\n",
    "print(\"sigma0:\",sigma0)"
   ]
  },
  {
   "cell_type": "code",
   "execution_count": 16,
   "metadata": {},
   "outputs": [
    {
     "name": "stdout",
     "output_type": "stream",
     "text": [
      "sigma1: [[0.47747117 0.1099206 ]\n",
      " [0.1099206  0.41355441]]\n"
     ]
    }
   ],
   "source": [
    "sigma1 = 0\n",
    "for i in range(len(label1)):\n",
    "    temp = 0\n",
    "    index = label1[i]\n",
    "    temp = X[:,index:index+1] - mu1\n",
    "#     elif(Y[0,i]==1):\n",
    "#         temp = X[:,i:i+1] - mu1\n",
    "#     print(temp.shape,X[:,i:i+1].shape,mu0.shape)\n",
    "    sigma1 += np.dot(temp,temp.T)\n",
    "#     print(temp.T.shape)\n",
    "sigma1 /= len(label1)\n",
    "print(\"sigma1:\",sigma1)\n",
    "\n",
    "sigma0_inv = np.linalg.pinv(sigma0)\n",
    "sigma1_inv = np.linalg.pinv(sigma1)"
   ]
  },
  {
   "cell_type": "code",
   "execution_count": 17,
   "metadata": {},
   "outputs": [],
   "source": [
    "# calculating value of y based on equation y=quadratic_equation(x)\n",
    "# \n",
    "def calc_quadratic(x):\n",
    "\n",
    "    p1 = phi\n",
    "    p0 = float(1 - phi)\n",
    "\n",
    "    a = sigma1_inv[0][0]\n",
    "    b = sigma1_inv[0][1]\n",
    "    c = sigma1_inv[1][0]\n",
    "    d = sigma1_inv[1][1]\n",
    "\n",
    "    p = sigma0_inv[0][0]\n",
    "    q = sigma0_inv[0][1]\n",
    "    r = sigma0_inv[1][0]\n",
    "    s = sigma0_inv[1][1]\n",
    "\n",
    "    C = np.log(np.linalg.det(sigma0)) - np.log(np.linalg.det(sigma1)) + 2.0*np.log(p1) - 2.0*np.log(p0)\n",
    "    u = d - s\n",
    "    v = (-2.0 * d * mu1[1]) + (2.0 * s * mu0[1]) + (b * x) - (b * mu1[0]) \\\n",
    "        + (c * x) - (c * mu1[0]) - (q * x) + (q * mu0[0]) - (r * x) + (r * mu0[0])\n",
    "\n",
    "    w = C - (a * ((x - mu1[0])**2)) + (p * ((x - mu0[0])**2)) \\\n",
    "        + b*mu1[1]*x + c*mu1[1]*x \\\n",
    "        - q*mu0[1]*x - r*mu0[1]*x \\\n",
    "        - d*(mu1[1]**2) + s*(mu0[1]**2) \\\n",
    "        - b*mu1[0]*mu1[1] - c*mu1[0]*mu1[1] \\\n",
    "        + q*mu0[1]*mu0[0] + r*mu0[1]*mu0[0]\n",
    "    \n",
    "    D = np.sqrt((v**2) + (4*u*w))\n",
    "    res = [(0.5*(-v + D))/u , (0.5*(-v - D))/u ]\n",
    "    \n",
    "#     print(u, v, w)\n",
    "    return res"
   ]
  },
  {
   "cell_type": "code",
   "execution_count": 18,
   "metadata": {},
   "outputs": [
    {
     "name": "stdout",
     "output_type": "stream",
     "text": [
      "\n"
     ]
    },
    {
     "data": {
      "image/png": "[encoded data removed]",
      "text/plain": [
       "<Figure size 432x288 with 1 Axes>"
      ]
     },
     "metadata": {
      "needs_background": "light"
     },
     "output_type": "display_data"
    }
   ],
   "source": [
    "x_label0 = np.array([X[0:2,x] for x in label0])\n",
    "x_label1 = np.array([X[0:2,x] for x in label1])\n",
    "\n",
    "plt.plot(x_label0[:, 0], x_label0[:, 1], 'ro', marker='o', label='Alaska')\n",
    "plt.plot(x_label1[:, 0], x_label1[:, 1], 'bo', marker='^', label='Canada')\n",
    "plt.xlabel('diameter in fresh water')\n",
    "plt.ylabel('diameter in marine water')\n",
    "plt.title('Training Set')\n",
    "# plt.show(block=False)\n",
    "\n",
    "sigma_inv = np.linalg.inv(sigma) \n",
    "c = 0.5 * (((mu0.T).dot(sigma_inv)).dot(mu0) -\n",
    "               ((mu1.T).dot(sigma_inv)).dot(mu1))\n",
    "siginv_mu = np.dot(sigma_inv, mu0-mu1)\n",
    "# print(siginv_mu.shape)\n",
    "x_line = np.linspace(-3,3,1000)\n",
    "y_line = (c - siginv_mu[0,0]*x_line)/siginv_mu[1,0]\n",
    "# print(y_line.shape)\n",
    "y_line = y_line.T\n",
    "plt.plot(x_line,y_line,label=\"linear decision boundary\")\n",
    "\n",
    "x_quad = np.linspace(-3,3,500)\n",
    "y_quad1 = []\n",
    "y_quad2 = []\n",
    "for i in range(500):\n",
    "    res = calc_quadratic(x_quad[i])\n",
    "#     print(res)\n",
    "    y_quad1.append(res[0])\n",
    "    y_quad2.append(res[1])\n",
    "\n",
    "print()\n",
    "plt.plot(x_quad,y_quad1,label=\"quadratic decision boundary\")\n",
    "plt.plot(x_quad,y_quad2,label=\"quadratic decision boundary\")\n",
    "plt.legend()\n",
    "plt.show()"
   ]
  },
  {
   "cell_type": "code",
   "execution_count": null,
   "metadata": {},
   "outputs": [],
   "source": []
  }
 ],
 "metadata": {
  "kernelspec": {
   "display_name": "Python 3",
   "language": "python",
   "name": "python3"
  },
  "language_info": {
   "codemirror_mode": {
    "name": "ipython",
    "version": 3
   },
   "file_extension": ".py",
   "mimetype": "text/x-python",
   "name": "python",
   "nbconvert_exporter": "python",
   "pygments_lexer": "ipython3",
   "version": "3.7.4"
  }
 },
 "nbformat": 4,
 "nbformat_minor": 2
}
